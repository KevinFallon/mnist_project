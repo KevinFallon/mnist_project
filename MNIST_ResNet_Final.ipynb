{
  "nbformat": 4,
  "nbformat_minor": 0,
  "metadata": {
    "colab": {
      "provenance": [],
      "machine_shape": "hm",
      "gpuType": "A100",
      "authorship_tag": "ABX9TyPCA8/DtTMcuTyCAw/zGjQG",
      "include_colab_link": true
    },
    "kernelspec": {
      "name": "python3",
      "display_name": "Python 3"
    },
    "language_info": {
      "name": "python"
    },
    "accelerator": "GPU"
  },
  "cells": [
    {
      "cell_type": "markdown",
      "metadata": {
        "id": "view-in-github",
        "colab_type": "text"
      },
      "source": [
        "<a href=\"https://colab.research.google.com/github/KevinFallon/mnist_project/blob/main/MNIST_ResNet_Final.ipynb\" target=\"_parent\"><img src=\"https://colab.research.google.com/assets/colab-badge.svg\" alt=\"Open In Colab\"/></a>"
      ]
    },
    {
      "cell_type": "code",
      "execution_count": 4,
      "metadata": {
        "id": "1TcPT-gz46aa"
      },
      "outputs": [],
      "source": [
        "import torch\n",
        "import torch.nn as nn\n",
        "import torchvision as tv\n",
        "import torchvision.datasets as datasets\n",
        "from torch.utils.data import DataLoader"
      ]
    },
    {
      "cell_type": "code",
      "source": [
        "if torch.cuda.is_available():\n",
        "  device = torch.device(\"cuda\")\n",
        "else:\n",
        "  device = torch.device(\"cpu\")"
      ],
      "metadata": {
        "id": "q7ySSi6a5BD4"
      },
      "execution_count": 5,
      "outputs": []
    },
    {
      "cell_type": "code",
      "source": [
        "# HYPER PARAMETERS\n",
        "num_epochs = 5\n",
        "learning_rate = 0.1\n",
        "batch_size = 128"
      ],
      "metadata": {
        "id": "EgVatBxq5MWL"
      },
      "execution_count": 6,
      "outputs": []
    },
    {
      "cell_type": "code",
      "source": [
        "mnist_trainset = datasets.MNIST(root='./data', train=True, download=True, transform=tv.transforms.ToTensor())\n",
        "mnist_testset = datasets.MNIST(root='./data', train=False, download=True, transform=tv.transforms.ToTensor())\n",
        "\n",
        "minst_train_loader = DataLoader(mnist_trainset, batch_size=batch_size, shuffle=True)\n",
        "mnist_test_loader = DataLoader(mnist_testset, batch_size=batch_size, shuffle=False)"
      ],
      "metadata": {
        "colab": {
          "base_uri": "https://localhost:8080/"
        },
        "id": "m4duMstv5CYu",
        "outputId": "d8c9c14a-691d-4245-c0b9-89d8b91b9d4e"
      },
      "execution_count": 7,
      "outputs": [
        {
          "output_type": "stream",
          "name": "stdout",
          "text": [
            "Downloading http://yann.lecun.com/exdb/mnist/train-images-idx3-ubyte.gz\n",
            "Downloading http://yann.lecun.com/exdb/mnist/train-images-idx3-ubyte.gz to ./data/MNIST/raw/train-images-idx3-ubyte.gz\n"
          ]
        },
        {
          "output_type": "stream",
          "name": "stderr",
          "text": [
            "100%|██████████| 9912422/9912422 [00:00<00:00, 350704866.72it/s]"
          ]
        },
        {
          "output_type": "stream",
          "name": "stdout",
          "text": [
            "Extracting ./data/MNIST/raw/train-images-idx3-ubyte.gz to ./data/MNIST/raw\n"
          ]
        },
        {
          "output_type": "stream",
          "name": "stderr",
          "text": [
            "\n"
          ]
        },
        {
          "output_type": "stream",
          "name": "stdout",
          "text": [
            "\n",
            "Downloading http://yann.lecun.com/exdb/mnist/train-labels-idx1-ubyte.gz\n",
            "Downloading http://yann.lecun.com/exdb/mnist/train-labels-idx1-ubyte.gz to ./data/MNIST/raw/train-labels-idx1-ubyte.gz\n"
          ]
        },
        {
          "output_type": "stream",
          "name": "stderr",
          "text": [
            "100%|██████████| 28881/28881 [00:00<00:00, 21685587.87it/s]\n"
          ]
        },
        {
          "output_type": "stream",
          "name": "stdout",
          "text": [
            "Extracting ./data/MNIST/raw/train-labels-idx1-ubyte.gz to ./data/MNIST/raw\n",
            "\n",
            "Downloading http://yann.lecun.com/exdb/mnist/t10k-images-idx3-ubyte.gz\n",
            "Downloading http://yann.lecun.com/exdb/mnist/t10k-images-idx3-ubyte.gz to ./data/MNIST/raw/t10k-images-idx3-ubyte.gz\n"
          ]
        },
        {
          "output_type": "stream",
          "name": "stderr",
          "text": [
            "100%|██████████| 1648877/1648877 [00:00<00:00, 121286743.42it/s]\n"
          ]
        },
        {
          "output_type": "stream",
          "name": "stdout",
          "text": [
            "Extracting ./data/MNIST/raw/t10k-images-idx3-ubyte.gz to ./data/MNIST/raw\n",
            "\n",
            "Downloading http://yann.lecun.com/exdb/mnist/t10k-labels-idx1-ubyte.gz\n",
            "Downloading http://yann.lecun.com/exdb/mnist/t10k-labels-idx1-ubyte.gz to ./data/MNIST/raw/t10k-labels-idx1-ubyte.gz\n"
          ]
        },
        {
          "output_type": "stream",
          "name": "stderr",
          "text": [
            "100%|██████████| 4542/4542 [00:00<00:00, 3970514.54it/s]"
          ]
        },
        {
          "output_type": "stream",
          "name": "stdout",
          "text": [
            "Extracting ./data/MNIST/raw/t10k-labels-idx1-ubyte.gz to ./data/MNIST/raw\n",
            "\n"
          ]
        },
        {
          "output_type": "stream",
          "name": "stderr",
          "text": [
            "\n"
          ]
        }
      ]
    },
    {
      "cell_type": "code",
      "source": [
        "from torchvision.models.googlenet import GoogLeNet, BasicConv2d\n",
        "\n",
        "class MNISTGoogLeNet(GoogLeNet):\n",
        "  def __init__(self):\n",
        "    # Num classes = 10 because we're predicting 0-9.\n",
        "    super(MNISTGoogLeNet, self).__init__()\n",
        "    # Keep same parameters except we change the number of input channels.\n",
        "    self.conv1 = BasicConv2d(1, 64, kernel_size=7, stride=2, padding=3)\n",
        "    # .. rest of layers\n",
        "    self.fc = nn.Linear(1024, 10) # output is 10 because we recognize 10 classes"
      ],
      "metadata": {
        "id": "ZKitibUL5Dw3"
      },
      "execution_count": 8,
      "outputs": []
    },
    {
      "cell_type": "code",
      "source": [
        "def train(model, optimizer, data_loader, loss_module, epochs, batch_size):\n",
        "  # Set model to train mode\n",
        "  model.train()\n",
        "\n",
        "  total_step = len(data_loader)\n",
        "  # Training loop\n",
        "  for epoch in range(epochs):\n",
        "    for i, (data_inputs, data_labels) in enumerate(data_loader):\n",
        "\n",
        "      # Step 1: Move the input data to the device (GPU)\n",
        "      data_inputs = data_inputs.to(device)\n",
        "      data_labels = data_labels.to(device)\n",
        "\n",
        "      # Step 2: Run the model on the input data\n",
        "      # Pluck the first item because GoogLeNet's forward function outputs a\n",
        "      # tuple of 3 values. The first value is the tensor we care about.\n",
        "      preds = model(data_inputs)[0]\n",
        "\n",
        "      # Step 3: Calculate the loss\n",
        "      loss = loss_module(preds, data_labels)\n",
        "\n",
        "      # Step 4: Backprop\n",
        "      # Set all gradients to zero. They would not be overwritten by default, just\n",
        "      # added to existing values.\n",
        "      optimizer.zero_grad()\n",
        "      # Perform backprop\n",
        "      loss.backward()\n",
        "\n",
        "      # Step 5: Update the params\n",
        "      optimizer.step()\n",
        "\n",
        "      if (i+1) % batch_size == 0:\n",
        "        print(f'Epoch [{epoch+1}/{epochs}], Step [{i+1}/{total_step}], Loss: {loss.item():.4f}')"
      ],
      "metadata": {
        "id": "DIOPwUcC5J0n"
      },
      "execution_count": 9,
      "outputs": []
    },
    {
      "cell_type": "code",
      "source": [
        "# Instantiate model and place on GPU\n",
        "model = MNISTGoogLeNet().to(device)\n",
        "\n",
        "loss_module = nn.CrossEntropyLoss().to(device)\n",
        "\n",
        "# Input to the optimizer are the parameters of the model: model.parameters()\n",
        "optimizer = torch.optim.SGD(model.parameters(), lr=learning_rate)\n",
        "\n",
        "train(model, optimizer, minst_train_loader, loss_module, num_epochs, batch_size)"
      ],
      "metadata": {
        "colab": {
          "base_uri": "https://localhost:8080/"
        },
        "id": "JZD82G7w6GH7",
        "outputId": "792e975c-c623-480d-f760-059d5bdc63d7"
      },
      "execution_count": 10,
      "outputs": [
        {
          "output_type": "stream",
          "name": "stdout",
          "text": [
            "Epoch [1/5], Step [128/469], Loss: 0.0876\n",
            "Epoch [1/5], Step [256/469], Loss: 0.1107\n",
            "Epoch [1/5], Step [384/469], Loss: 0.0938\n",
            "Epoch [2/5], Step [128/469], Loss: 0.0547\n",
            "Epoch [2/5], Step [256/469], Loss: 0.0637\n",
            "Epoch [2/5], Step [384/469], Loss: 0.1834\n",
            "Epoch [3/5], Step [128/469], Loss: 0.0518\n",
            "Epoch [3/5], Step [256/469], Loss: 0.0198\n",
            "Epoch [3/5], Step [384/469], Loss: 0.0683\n",
            "Epoch [4/5], Step [128/469], Loss: 0.0222\n",
            "Epoch [4/5], Step [256/469], Loss: 0.0182\n",
            "Epoch [4/5], Step [384/469], Loss: 0.0055\n",
            "Epoch [5/5], Step [128/469], Loss: 0.0040\n",
            "Epoch [5/5], Step [256/469], Loss: 0.0151\n",
            "Epoch [5/5], Step [384/469], Loss: 0.0032\n"
          ]
        }
      ]
    },
    {
      "cell_type": "code",
      "source": [
        "def eval_model(model, data_loader):\n",
        "  # Set model to eval mode for inference\n",
        "  model.eval()\n",
        "\n",
        "  true_preds, num_preds = 0., 0.\n",
        "\n",
        "  with torch.no_grad(): # Deactivate gradients for inference\n",
        "    for data_inputs, data_labels in data_loader:\n",
        "      # Move the data to the same device as the model and loss.\n",
        "      data_inputs = data_inputs.to(device)\n",
        "      data_labels = data_labels.to(device)\n",
        "      # Output is [batchsize, 10]. 10 is because each has a probability for each\n",
        "      # number's prediction\n",
        "      preds = model(data_inputs)\n",
        "      # Take the max over the softmax results aka the probability the picture is\n",
        "      # a drawing of a number between 0-9. The softmax results are in dim=1.\n",
        "      # torch.max outputs the (64 max_probabilities, 64 indicies for corresponding softmax value)\n",
        "      # Index for a softmax value maps to the number it represents, i.e.\n",
        "      # softmax_class[5] returns the number 5.\n",
        "      pred = torch.max(preds, dim=1, keepdim=True)[1]\n",
        "      # View  data_labels as the same size as pred. Move to the CPU and compute\n",
        "      # the sum of the number of equal/correct predictions.\n",
        "      true_preds += pred.eq(data_labels.view_as(pred)).cpu().sum()\n",
        "      # Get the number of predictions by looking at the first index of the shape\n",
        "      # which is typically m num training examples.\n",
        "      num_preds += data_labels.shape[0]\n",
        "    print('Accuracy: {:.4f}'.format(100.0*float(true_preds) / len(data_loader.dataset)))\n",
        "\n",
        "eval_model(model, mnist_test_loader)"
      ],
      "metadata": {
        "colab": {
          "base_uri": "https://localhost:8080/"
        },
        "id": "046yctsf6P0K",
        "outputId": "085c55a6-47f1-47bf-f9f4-ebddc7fa0d7f"
      },
      "execution_count": 11,
      "outputs": [
        {
          "output_type": "stream",
          "name": "stdout",
          "text": [
            "Accuracy: 98.9900\n"
          ]
        }
      ]
    },
    {
      "cell_type": "code",
      "source": [],
      "metadata": {
        "id": "ohJ5DfLRC4e-"
      },
      "execution_count": null,
      "outputs": []
    }
  ]
}