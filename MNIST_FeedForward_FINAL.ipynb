{
  "nbformat": 4,
  "nbformat_minor": 0,
  "metadata": {
    "colab": {
      "provenance": [],
      "machine_shape": "hm",
      "gpuType": "A100",
      "authorship_tag": "ABX9TyNN0sq3IaDFDrZMMM5g62So",
      "include_colab_link": true
    },
    "kernelspec": {
      "name": "python3",
      "display_name": "Python 3"
    },
    "language_info": {
      "name": "python"
    },
    "accelerator": "GPU"
  },
  "cells": [
    {
      "cell_type": "markdown",
      "metadata": {
        "id": "view-in-github",
        "colab_type": "text"
      },
      "source": [
        "<a href=\"https://colab.research.google.com/github/KevinFallon/mnist_project/blob/main/MNIST_FeedForward_FINAL.ipynb\" target=\"_parent\"><img src=\"https://colab.research.google.com/assets/colab-badge.svg\" alt=\"Open In Colab\"/></a>"
      ]
    },
    {
      "cell_type": "code",
      "execution_count": 1,
      "metadata": {
        "id": "F8fUQfqje4M-"
      },
      "outputs": [],
      "source": [
        "import torch\n",
        "import torch.nn as nn\n",
        "import torchvision as tv\n",
        "import torchvision.datasets as datasets\n",
        "from torch.utils.data import DataLoader"
      ]
    },
    {
      "cell_type": "code",
      "source": [
        "if torch.cuda.is_available():\n",
        "  device = torch.device(\"cuda\")\n",
        "else:\n",
        "  device = torch.device(\"cpu\")\n",
        "\n",
        "# HYPER PARAMs\n",
        "num_epochs = 3\n",
        "batch_size = 128\n",
        "learning_rate = 0.001\n"
      ],
      "metadata": {
        "id": "FbNtsPIpg-TP"
      },
      "execution_count": 2,
      "outputs": []
    },
    {
      "cell_type": "code",
      "source": [
        "img_transforms = tv.transforms.Compose([\n",
        "    tv.transforms.ToTensor(),\n",
        "])\n",
        "\n",
        "mnist_trainset = datasets.MNIST(root='./data', train=True, download=True, transform=img_transforms)\n",
        "mnist_testset = datasets.MNIST(root='./data', train=False, download=True, transform=img_transforms)\n",
        "\n",
        "mnist_train_loader = DataLoader(mnist_trainset, batch_size=batch_size, shuffle=True)\n",
        "mnist_test_loader = DataLoader(mnist_testset, batch_size=batch_size, shuffle=False)"
      ],
      "metadata": {
        "colab": {
          "base_uri": "https://localhost:8080/"
        },
        "id": "r3_P68x8g-ag",
        "outputId": "a86b0010-dfce-4915-ac05-22a6c08c38f4"
      },
      "execution_count": 3,
      "outputs": [
        {
          "output_type": "stream",
          "name": "stdout",
          "text": [
            "Downloading http://yann.lecun.com/exdb/mnist/train-images-idx3-ubyte.gz\n",
            "Downloading http://yann.lecun.com/exdb/mnist/train-images-idx3-ubyte.gz to ./data/MNIST/raw/train-images-idx3-ubyte.gz\n"
          ]
        },
        {
          "output_type": "stream",
          "name": "stderr",
          "text": [
            "100%|██████████| 9912422/9912422 [00:00<00:00, 274370995.01it/s]"
          ]
        },
        {
          "output_type": "stream",
          "name": "stdout",
          "text": [
            "Extracting ./data/MNIST/raw/train-images-idx3-ubyte.gz to ./data/MNIST/raw\n"
          ]
        },
        {
          "output_type": "stream",
          "name": "stderr",
          "text": [
            "\n"
          ]
        },
        {
          "output_type": "stream",
          "name": "stdout",
          "text": [
            "\n",
            "Downloading http://yann.lecun.com/exdb/mnist/train-labels-idx1-ubyte.gz\n",
            "Downloading http://yann.lecun.com/exdb/mnist/train-labels-idx1-ubyte.gz to ./data/MNIST/raw/train-labels-idx1-ubyte.gz\n"
          ]
        },
        {
          "output_type": "stream",
          "name": "stderr",
          "text": [
            "100%|██████████| 28881/28881 [00:00<00:00, 33686232.99it/s]\n"
          ]
        },
        {
          "output_type": "stream",
          "name": "stdout",
          "text": [
            "Extracting ./data/MNIST/raw/train-labels-idx1-ubyte.gz to ./data/MNIST/raw\n",
            "\n",
            "Downloading http://yann.lecun.com/exdb/mnist/t10k-images-idx3-ubyte.gz\n",
            "Downloading http://yann.lecun.com/exdb/mnist/t10k-images-idx3-ubyte.gz to ./data/MNIST/raw/t10k-images-idx3-ubyte.gz\n"
          ]
        },
        {
          "output_type": "stream",
          "name": "stderr",
          "text": [
            "100%|██████████| 1648877/1648877 [00:00<00:00, 203666148.26it/s]"
          ]
        },
        {
          "output_type": "stream",
          "name": "stdout",
          "text": [
            "Extracting ./data/MNIST/raw/t10k-images-idx3-ubyte.gz to ./data/MNIST/raw\n",
            "\n",
            "Downloading http://yann.lecun.com/exdb/mnist/t10k-labels-idx1-ubyte.gz\n",
            "Downloading http://yann.lecun.com/exdb/mnist/t10k-labels-idx1-ubyte.gz to ./data/MNIST/raw/t10k-labels-idx1-ubyte.gz\n"
          ]
        },
        {
          "output_type": "stream",
          "name": "stderr",
          "text": [
            "\n",
            "100%|██████████| 4542/4542 [00:00<00:00, 5958876.69it/s]\n"
          ]
        },
        {
          "output_type": "stream",
          "name": "stdout",
          "text": [
            "Extracting ./data/MNIST/raw/t10k-labels-idx1-ubyte.gz to ./data/MNIST/raw\n",
            "\n"
          ]
        }
      ]
    },
    {
      "cell_type": "code",
      "source": [
        "class FeedForward(nn.Module):\n",
        "  def __init__(self, num_classes=10):\n",
        "    super(FeedForward, self).__init__()\n",
        "\n",
        "    self.fc1 = nn.Sequential(\n",
        "        nn.Linear(in_features=28*28, out_features=28*28),\n",
        "        nn.ReLU(inplace=True),\n",
        "    )\n",
        "\n",
        "    self.final_fc = nn.Linear(28*28, out_features=num_classes)\n",
        "\n",
        "  def forward(self, x):\n",
        "    x = x.view(x.size(0), -1)\n",
        "    x = self.fc1(x)\n",
        "    x = self.final_fc(x)\n",
        "    return x"
      ],
      "metadata": {
        "id": "1AivLdTsg-iE"
      },
      "execution_count": 4,
      "outputs": []
    },
    {
      "cell_type": "code",
      "source": [
        "def train(model, optimizer, train_loader, loss_module, number_epochs, batch_size):\n",
        "  model.train()\n",
        "\n",
        "  for epoch in range(number_epochs):\n",
        "    for i, (images, labels) in enumerate(train_loader):\n",
        "      images = images.to(device)\n",
        "      labels = labels.to(device)\n",
        "\n",
        "      outputs = model(images)\n",
        "      loss = loss_module(outputs, labels)\n",
        "\n",
        "      optimizer.zero_grad()\n",
        "      loss.backward()\n",
        "      optimizer.step()\n",
        "\n",
        "      if (i+1) % batch_size == 0:\n",
        "        print('Epoch [{}/{}], Step [{}/{}], Loss: {:.4f}'.format(epoch+1, number_epochs, i+1, len(train_loader), loss.item()))\n"
      ],
      "metadata": {
        "id": "6NjI1MoojOzj"
      },
      "execution_count": 5,
      "outputs": []
    },
    {
      "cell_type": "code",
      "source": [
        "model = FeedForward().to(device)\n",
        "\n",
        "loss_module = nn.CrossEntropyLoss()\n",
        "optimizer = torch.optim.Adam(model.parameters(), lr=learning_rate)\n",
        "\n",
        "train(model, optimizer, mnist_train_loader, loss_module, num_epochs, batch_size)"
      ],
      "metadata": {
        "colab": {
          "base_uri": "https://localhost:8080/"
        },
        "id": "jPSv-nLfjd9o",
        "outputId": "33ad64e9-cde5-46a1-9f45-ec9d98cdca06"
      },
      "execution_count": 6,
      "outputs": [
        {
          "output_type": "stream",
          "name": "stdout",
          "text": [
            "Epoch [1/3], Step [128/469], Loss: 0.2766\n",
            "Epoch [1/3], Step [256/469], Loss: 0.2476\n",
            "Epoch [1/3], Step [384/469], Loss: 0.1522\n",
            "Epoch [2/3], Step [128/469], Loss: 0.0865\n",
            "Epoch [2/3], Step [256/469], Loss: 0.0575\n",
            "Epoch [2/3], Step [384/469], Loss: 0.1116\n",
            "Epoch [3/3], Step [128/469], Loss: 0.0279\n",
            "Epoch [3/3], Step [256/469], Loss: 0.0122\n",
            "Epoch [3/3], Step [384/469], Loss: 0.0720\n"
          ]
        }
      ]
    },
    {
      "cell_type": "code",
      "source": [
        "def eval_model(model, data_loader):\n",
        "  # Set model to eval mode for inference\n",
        "  model.eval()\n",
        "\n",
        "  true_preds, num_preds = 0., 0.\n",
        "\n",
        "  with torch.no_grad(): # Deactivate gradients for inference\n",
        "    for data_inputs, data_labels in data_loader:\n",
        "      # Move the data to the same device as the model and loss.\n",
        "      data_inputs = data_inputs.to(device)\n",
        "      data_labels = data_labels.to(device)\n",
        "      # Output is [batchsize, 10]. 10 is because each has a probability for each\n",
        "      # number's prediction\n",
        "      preds = model(data_inputs)\n",
        "      # Take the max over the softmax results aka the probability the picture is\n",
        "      # a drawing of a number between 0-9. The softmax results are in dim=1.\n",
        "      # torch.max outputs the (64 max_probabilities, 64 indicies for corresponding softmax value)\n",
        "      # Index for a softmax value maps to the number it represents, i.e.\n",
        "      # softmax_class[5] returns the number 5.\n",
        "      pred = torch.max(preds, dim=1, keepdim=True)[1]\n",
        "      # View  data_labels as the same size as pred. Move to the CPU and compute\n",
        "      # the sum of the number of equal/correct predictions.\n",
        "      true_preds += pred.eq(data_labels.view_as(pred)).cpu().sum()\n",
        "      # Get the number of predictions by looking at the first index of the shape\n",
        "      # which is typically m num training examples.\n",
        "      num_preds += data_labels.shape[0]\n",
        "    print('Accuracy: {:.4f}'.format(100.0*float(true_preds) / len(data_loader.dataset)))\n",
        "\n",
        "eval_model(model, mnist_test_loader)"
      ],
      "metadata": {
        "colab": {
          "base_uri": "https://localhost:8080/"
        },
        "id": "sYvSEcz3j0Ny",
        "outputId": "8aa04518-6a0c-481d-d7e7-cfddf4a6fc31"
      },
      "execution_count": 8,
      "outputs": [
        {
          "output_type": "stream",
          "name": "stdout",
          "text": [
            "Accuracy: 97.6100\n"
          ]
        }
      ]
    },
    {
      "cell_type": "code",
      "source": [],
      "metadata": {
        "id": "PUJzMufIo1O1"
      },
      "execution_count": null,
      "outputs": []
    }
  ]
}