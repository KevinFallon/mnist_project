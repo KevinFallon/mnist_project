{
  "nbformat": 4,
  "nbformat_minor": 0,
  "metadata": {
    "colab": {
      "provenance": [],
      "machine_shape": "hm",
      "gpuType": "A100",
      "authorship_tag": "ABX9TyOfA2VcYqDEFjv8KSbEW5fd",
      "include_colab_link": true
    },
    "kernelspec": {
      "name": "python3",
      "display_name": "Python 3"
    },
    "language_info": {
      "name": "python"
    },
    "accelerator": "GPU"
  },
  "cells": [
    {
      "cell_type": "markdown",
      "metadata": {
        "id": "view-in-github",
        "colab_type": "text"
      },
      "source": [
        "<a href=\"https://colab.research.google.com/github/KevinFallon/mnist_project/blob/main/MNIST_CNN_FINAL.ipynb\" target=\"_parent\"><img src=\"https://colab.research.google.com/assets/colab-badge.svg\" alt=\"Open In Colab\"/></a>"
      ]
    },
    {
      "cell_type": "code",
      "execution_count": 1,
      "metadata": {
        "id": "oZuCgJwEw7tg"
      },
      "outputs": [],
      "source": [
        "import torch\n",
        "import torch.nn as nn\n",
        "import torchvision as tv\n",
        "import torchvision.datasets as datasets\n",
        "from torch.utils.data import DataLoader"
      ]
    },
    {
      "cell_type": "code",
      "source": [
        "if torch.cuda.is_available():\n",
        "  device = torch.device(\"cuda\")\n",
        "else:\n",
        "  device = torch.device(\"cpu\")\n",
        "\n",
        "# HYPER PARAMs\n",
        "num_epochs = 3\n",
        "batch_size = 128\n",
        "learning_rate = 0.001\n"
      ],
      "metadata": {
        "id": "jbDE3LTwxM2b"
      },
      "execution_count": 2,
      "outputs": []
    },
    {
      "cell_type": "code",
      "source": [
        "img_transforms = tv.transforms.Compose([\n",
        "    tv.transforms.Resize((224, 224)), # Resize per VGG paper.\n",
        "    tv.transforms.ToTensor(),\n",
        "])\n",
        "\n",
        "mnist_trainset = datasets.MNIST(root='./data', train=True, download=True, transform=img_transforms)\n",
        "mnist_testset = datasets.MNIST(root='./data', train=False, download=True, transform=img_transforms)\n",
        "\n",
        "mnist_train_loader = DataLoader(mnist_trainset, batch_size=batch_size, shuffle=True)\n",
        "mnist_test_loader = DataLoader(mnist_testset, batch_size=batch_size, shuffle=False)"
      ],
      "metadata": {
        "colab": {
          "base_uri": "https://localhost:8080/"
        },
        "id": "UyrnmLHaxPD9",
        "outputId": "41e7ef5c-41fc-48f1-8e0d-da732ab6e7c3"
      },
      "execution_count": 4,
      "outputs": [
        {
          "output_type": "stream",
          "name": "stdout",
          "text": [
            "Downloading http://yann.lecun.com/exdb/mnist/train-images-idx3-ubyte.gz\n",
            "Downloading http://yann.lecun.com/exdb/mnist/train-images-idx3-ubyte.gz to ./data/MNIST/raw/train-images-idx3-ubyte.gz\n"
          ]
        },
        {
          "output_type": "stream",
          "name": "stderr",
          "text": [
            "100%|██████████| 9912422/9912422 [00:00<00:00, 343025430.43it/s]\n"
          ]
        },
        {
          "output_type": "stream",
          "name": "stdout",
          "text": [
            "Extracting ./data/MNIST/raw/train-images-idx3-ubyte.gz to ./data/MNIST/raw\n",
            "\n",
            "Downloading http://yann.lecun.com/exdb/mnist/train-labels-idx1-ubyte.gz\n",
            "Downloading http://yann.lecun.com/exdb/mnist/train-labels-idx1-ubyte.gz to ./data/MNIST/raw/train-labels-idx1-ubyte.gz\n"
          ]
        },
        {
          "output_type": "stream",
          "name": "stderr",
          "text": [
            "100%|██████████| 28881/28881 [00:00<00:00, 37468510.31it/s]\n"
          ]
        },
        {
          "output_type": "stream",
          "name": "stdout",
          "text": [
            "Extracting ./data/MNIST/raw/train-labels-idx1-ubyte.gz to ./data/MNIST/raw\n",
            "\n",
            "Downloading http://yann.lecun.com/exdb/mnist/t10k-images-idx3-ubyte.gz\n",
            "Downloading http://yann.lecun.com/exdb/mnist/t10k-images-idx3-ubyte.gz to ./data/MNIST/raw/t10k-images-idx3-ubyte.gz\n"
          ]
        },
        {
          "output_type": "stream",
          "name": "stderr",
          "text": [
            "100%|██████████| 1648877/1648877 [00:00<00:00, 198021228.25it/s]\n"
          ]
        },
        {
          "output_type": "stream",
          "name": "stdout",
          "text": [
            "Extracting ./data/MNIST/raw/t10k-images-idx3-ubyte.gz to ./data/MNIST/raw\n",
            "\n",
            "Downloading http://yann.lecun.com/exdb/mnist/t10k-labels-idx1-ubyte.gz\n",
            "Downloading http://yann.lecun.com/exdb/mnist/t10k-labels-idx1-ubyte.gz to ./data/MNIST/raw/t10k-labels-idx1-ubyte.gz\n"
          ]
        },
        {
          "output_type": "stream",
          "name": "stderr",
          "text": [
            "100%|██████████| 4542/4542 [00:00<00:00, 2875551.51it/s]"
          ]
        },
        {
          "output_type": "stream",
          "name": "stdout",
          "text": [
            "Extracting ./data/MNIST/raw/t10k-labels-idx1-ubyte.gz to ./data/MNIST/raw\n",
            "\n"
          ]
        },
        {
          "output_type": "stream",
          "name": "stderr",
          "text": [
            "\n"
          ]
        }
      ]
    },
    {
      "cell_type": "code",
      "source": [
        "# VGG implements the 11 weight layers NN from the VGG paper that is found\n",
        "# at https://arxiv.org/pdf/1409.1556.pdf\n",
        "class MNIST_VGG(nn.Module):\n",
        "  def __init__(self, num_classes=10):\n",
        "    super(MNIST_VGG, self).__init__()\n",
        "\n",
        "    # Initialize the modules we need to build the network\n",
        "    self.layer1 = nn.Sequential(\n",
        "      nn.Conv2d(in_channels=1, out_channels=64, kernel_size=3, padding=1),\n",
        "      nn.ReLU(inplace=True),\n",
        "      nn.MaxPool2d(kernel_size=2, stride=2, padding=0),\n",
        "    )\n",
        "\n",
        "    self.layer2 = nn.Sequential(\n",
        "      nn.Conv2d(in_channels=64, out_channels=128, kernel_size=3, padding=1),\n",
        "      nn.ReLU(inplace=True),\n",
        "      nn.MaxPool2d(kernel_size=2, stride=2, padding=0),\n",
        "    )\n",
        "\n",
        "    self.layer3 = nn.Sequential(\n",
        "      nn.Conv2d(in_channels=128, out_channels=256, kernel_size=3, padding=1),\n",
        "      nn.ReLU(inplace=True),\n",
        "      nn.Conv2d(in_channels=256, out_channels=256, kernel_size=3, padding=1),\n",
        "      nn.ReLU(inplace=True),\n",
        "      nn.MaxPool2d(kernel_size=2, stride=2, padding=0),\n",
        "    )\n",
        "\n",
        "    self.layer4 = nn.Sequential(\n",
        "      nn.Conv2d(in_channels=256, out_channels=512, kernel_size=3, padding=1),\n",
        "      nn.ReLU(inplace=True),\n",
        "      nn.Conv2d(in_channels=512, out_channels=512, kernel_size=3, padding=1),\n",
        "      nn.ReLU(inplace=True),\n",
        "      nn.MaxPool2d(kernel_size=2, stride=2, padding=0),\n",
        "    )\n",
        "\n",
        "    self.layer5 = nn.Sequential(\n",
        "      nn.Conv2d(in_channels=512, out_channels=512, kernel_size=3, padding=1),\n",
        "      nn.ReLU(inplace=True),\n",
        "      nn.Conv2d(in_channels=512, out_channels=512, kernel_size=3, padding=1),\n",
        "      nn.ReLU(inplace=True),\n",
        "      nn.MaxPool2d(kernel_size=2, stride=2, padding=0),\n",
        "    )\n",
        "\n",
        "    self.fc1 = nn.Sequential(\n",
        "      nn.Linear(in_features=512 * 7 * 7, out_features=4096),\n",
        "      nn.ReLU(inplace=True),\n",
        "    )\n",
        "    self.fc2 = nn.Sequential(\n",
        "      nn.Linear(in_features=4096, out_features=4096),\n",
        "      nn.ReLU(inplace=True),\n",
        "    )\n",
        "\n",
        "    self.fc3 = nn.Sequential(\n",
        "      nn.Linear(in_features=4096, out_features=num_classes),\n",
        "    )\n",
        "\n",
        "  def forward(self, x):\n",
        "    x = self.layer1(x)\n",
        "    x = self.layer2(x)\n",
        "    x = self.layer3(x)\n",
        "    x = self.layer4(x)\n",
        "    x = self.layer5(x)\n",
        "   # flatten to prepare for the fully connected layers\n",
        "    x = x.view(x.size(0), -1)\n",
        "    x = self.fc1(x)\n",
        "    x = self.fc2(x)\n",
        "    x = self.fc3(x)\n",
        "\n",
        "    return x"
      ],
      "metadata": {
        "id": "2hhxsozxxDjl"
      },
      "execution_count": 5,
      "outputs": []
    },
    {
      "cell_type": "code",
      "source": [
        "def train(model, optimizer, train_data_loader, loss_module, number_epochs, batch_size):\n",
        "\n",
        "  # Set model to train mode\n",
        "  model.train()\n",
        "\n",
        "  total_step = len(train_data_loader)\n",
        "\n",
        "  # Training loop\n",
        "  for epoch in range(number_epochs):\n",
        "    for i, (images, labels) in enumerate(train_data_loader):\n",
        "\n",
        "      # Step 1: Move the input data to the device (GPU)\n",
        "      images = images.to(device)\n",
        "      labels = labels.to(device)\n",
        "\n",
        "      # Step 2: Run the model on the input data\n",
        "      output = model(images)\n",
        "\n",
        "      # Step 3: Calculate the loss\n",
        "      loss = loss_module(output, labels)\n",
        "\n",
        "      # Step 4: Backprop\n",
        "      # Set all gradients to zero. They would not be overwritten by default, just\n",
        "      # added to existing values.\n",
        "      optimizer.zero_grad()\n",
        "      # Perform backprop\n",
        "      loss.backward()\n",
        "\n",
        "      # Step 5: Update the params\n",
        "      optimizer.step()\n",
        "\n",
        "      if (i+1) % batch_size == 0:\n",
        "        print(f'Epoch [{epoch+1}/{num_epochs}], Step [{i+1}/{total_step}], Loss: {loss.item():.4f}')"
      ],
      "metadata": {
        "id": "8aBzgrjsxWgq"
      },
      "execution_count": 6,
      "outputs": []
    },
    {
      "cell_type": "code",
      "source": [
        "model = MNIST_VGG().to(device)\n",
        "\n",
        "loss_module = nn.CrossEntropyLoss().to(device)\n",
        "optimizer = torch.optim.Adam(model.parameters(), lr=learning_rate)\n",
        "\n",
        "train(model, optimizer, mnist_train_loader, loss_module, num_epochs, batch_size)"
      ],
      "metadata": {
        "colab": {
          "base_uri": "https://localhost:8080/"
        },
        "id": "cyXmO4Pixk7j",
        "outputId": "bc745d9b-40f1-4c40-e67e-18ac643dc2b6"
      },
      "execution_count": 8,
      "outputs": [
        {
          "output_type": "stream",
          "name": "stdout",
          "text": [
            "Epoch [1/3], Step [128/469], Loss: 0.2170\n",
            "Epoch [1/3], Step [256/469], Loss: 0.0807\n",
            "Epoch [1/3], Step [384/469], Loss: 0.1189\n",
            "Epoch [2/3], Step [128/469], Loss: 0.0116\n",
            "Epoch [2/3], Step [256/469], Loss: 0.0037\n",
            "Epoch [2/3], Step [384/469], Loss: 0.0282\n",
            "Epoch [3/3], Step [128/469], Loss: 0.0773\n",
            "Epoch [3/3], Step [256/469], Loss: 0.0119\n",
            "Epoch [3/3], Step [384/469], Loss: 0.0092\n"
          ]
        }
      ]
    },
    {
      "cell_type": "code",
      "source": [
        "def eval_model(model, data_loader):\n",
        "  # Set model to eval mode for inference\n",
        "  model.eval()\n",
        "\n",
        "  true_preds, num_preds = 0., 0.\n",
        "\n",
        "  with torch.no_grad(): # Deactivate gradients for inference\n",
        "    for data_inputs, data_labels in data_loader:\n",
        "      # Move the data to the same device as the model and loss.\n",
        "      data_inputs = data_inputs.to(device)\n",
        "      data_labels = data_labels.to(device)\n",
        "      # Output is [batchsize, 10]. 10 is because each has a probability for each\n",
        "      # number's prediction\n",
        "      preds = model(data_inputs)\n",
        "      # Take the max over the softmax results aka the probability the picture is\n",
        "      # a drawing of a number between 0-9. The softmax results are in dim=1.\n",
        "      # torch.max outputs the (64 max_probabilities, 64 indicies for corresponding softmax value)\n",
        "      # Index for a softmax value maps to the number it represents, i.e.\n",
        "      # softmax_class[5] returns the number 5.\n",
        "      pred = torch.max(preds, dim=1, keepdim=True)[1]\n",
        "      # View  data_labels as the same size as pred. Move to the CPU and compute\n",
        "      # the sum of the number of equal/correct predictions.\n",
        "      true_preds += pred.eq(data_labels.view_as(pred)).cpu().sum()\n",
        "      # Get the number of predictions by looking at the first index of the shape\n",
        "      # which is typically m num training examples.\n",
        "      num_preds += data_labels.shape[0]\n",
        "    print('Accuracy: {:.4f}'.format(100.0*float(true_preds) / len(data_loader.dataset)))\n",
        "\n",
        "eval_model(model, mnist_test_loader)"
      ],
      "metadata": {
        "colab": {
          "base_uri": "https://localhost:8080/"
        },
        "id": "8JgNg1svyC5i",
        "outputId": "177758a9-1a35-4de9-f80f-334ec66c14e8"
      },
      "execution_count": 9,
      "outputs": [
        {
          "output_type": "stream",
          "name": "stdout",
          "text": [
            "Accuracy: 98.5500\n"
          ]
        }
      ]
    },
    {
      "cell_type": "code",
      "source": [],
      "metadata": {
        "id": "koPtqrIn039Q"
      },
      "execution_count": null,
      "outputs": []
    }
  ]
}